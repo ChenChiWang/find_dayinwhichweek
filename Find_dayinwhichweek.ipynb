{
 "cells": [
  {
   "cell_type": "code",
   "execution_count": 1,
   "metadata": {},
   "outputs": [],
   "source": [
    "import re\n",
    "import datetime\n",
    "\n",
    "#Find the Day of which Week in which Month in a Year = Find_dayinwhichweek\n",
    "\n",
    "class Find_dayinwhichweek():\n",
    "    def __init__(self,target_date='Sun',which_week=2,which_month='Mar'):\n",
    "        self.day_range =365\n",
    "        self.today_date = datetime.date.today()\n",
    "        \n",
    "        self.each_month = ['Jan','Feb','Mar','Apr','May','Jun','Jul','Aug','Sep','Oct','Nov','Dec']\n",
    "        self.each_qwmonth = ['Mar','Jun','Sep','Dec']\n",
    "        if which_month == \"All\":\n",
    "            self.which_month = self.each_month\n",
    "        elif which_month == \"Qw\":\n",
    "            self.which_month = self.each_qwmonth\n",
    "        else:\n",
    "            self.which_month = which_month\n",
    "        \n",
    "        self.which_week = which_week\n",
    "        self.target_date = target_date\n",
    "        \n",
    "        if type(self.which_month) == list:\n",
    "            self.show_date = self.show_date_bymonth(self.which_month)\n",
    "            self.show_date = self.show_coming_date()\n",
    "        else:\n",
    "            self.show_date = self.show_date(self.which_month)\n",
    "        \n",
    "    # 找出未來一年之中某月的第幾個星期的日期\n",
    "    def show_date(self,month):\n",
    "        target_dates=[]\n",
    "        for i in range(0,self.day_range):\n",
    "            delta = datetime.timedelta(days=i)\n",
    "            the_date = (self.firstday_in_month()+delta).strftime('%Y-%b-%d-%a')\n",
    "            pattern = re.compile('\\d{4}-'+ str(month) +'-\\d{2}-'+self.target_date)\n",
    "            result = re.search(pattern,the_date)\n",
    "            if result != None:\n",
    "                the_date= result.group(0)\n",
    "    #             print(the_date)\n",
    "                target_dates.append(the_date)\n",
    "        target_date = target_dates[self.which_week-1]\n",
    "        return target_date\n",
    "    \n",
    "    def show_date_bymonth(self,month):\n",
    "        date_list = [self.the_time2datetime(self.show_date(i)) for i in month]\n",
    "        result_list = [self.date_time2the_time(i) for i in sorted(date_list)]\n",
    "        return result_list\n",
    "        \n",
    "    \n",
    "    # 找出某月第一天,如果超過每月25號則以下個月開始計算\n",
    "    def firstday_in_month(self):\n",
    "        if self.today_date.day > 25:\n",
    "            self.today_date += datetime.timedelta(7)\n",
    "        first_day = self.today_date.replace(day=1)\n",
    "        return first_day\n",
    "    \n",
    "    # the_time轉換回datetime格式\n",
    "    def the_time2datetime(self,the_time):\n",
    "        the_time = datetime.datetime.strptime(the_time, '%Y-%b-%d-%a')\n",
    "        return the_time.date()\n",
    "    \n",
    "    # datetime轉換回the_time格式\n",
    "    def date_time2the_time(self,date_time):\n",
    "        the_time = date_time.strftime('%Y-%b-%d-%a')\n",
    "        return the_time\n",
    "    \n",
    "    # 確認事件時間在今天之前或之後,若在今天前為False,今天或今天之後為True\n",
    "    def before_today(self,the_time):\n",
    "        the_time = self.the_time2datetime(the_time)\n",
    "        return bool(the_time>=self.today_date)\n",
    "    \n",
    "    # 扣除本月已過日期\n",
    "    def show_coming_date(self):\n",
    "        result = [i for i in self.show_date if self.before_today(i)]\n",
    "        return result"
   ]
  },
  {
   "cell_type": "code",
   "execution_count": 2,
   "metadata": {},
   "outputs": [
    {
     "name": "stdout",
     "output_type": "stream",
     "text": [
      "標準時間開始:2021-Mar-14-Sun:電子盤夏令時間(6:00 - 次日5:00)\n",
      "冬令時間開始:2021-Nov-07-Sun:電子盤冬令時間(7:00 - 次日6:00)\n"
     ]
    }
   ],
   "source": [
    "## 日光節約從3月的第2個星期天開始, 到11月的第一個星期天結束\n",
    "daylight_saving_time_start = Find_dayinwhichweek('Sun',2,'Mar')\n",
    "daylight_saving_time_end = Find_dayinwhichweek('Sun',1,'Nov')\n",
    "print(f'標準時間開始:{daylight_saving_time_start.show_date}:電子盤夏令時間(6:00 - 次日5:00)')\n",
    "print(f'冬令時間開始:{daylight_saving_time_end.show_date}:電子盤冬令時間(7:00 - 次日6:00)')"
   ]
  },
  {
   "cell_type": "code",
   "execution_count": 3,
   "metadata": {},
   "outputs": [
    {
     "name": "stdout",
     "output_type": "stream",
     "text": [
      "['2021-Feb-17-Wed', '2021-Mar-17-Wed', '2021-Apr-21-Wed', '2021-May-19-Wed', '2021-Jun-16-Wed', '2021-Jul-21-Wed', '2021-Aug-18-Wed', '2021-Sep-15-Wed', '2021-Oct-20-Wed', '2021-Nov-17-Wed', '2021-Dec-15-Wed', '2022-Jan-19-Wed']\n",
      "['2021-Mar-19-Fri', '2021-Jun-18-Fri', '2021-Sep-17-Fri', '2021-Dec-17-Fri']\n"
     ]
    }
   ],
   "source": [
    "# 台指期於每個月的第3個星期三結算\n",
    "fitx = Find_dayinwhichweek('Wed',3,'All')\n",
    "fitx = fitx.show_date\n",
    "print(fitx)\n",
    "# 國外期貨指數類於每個季月的第3個星期五結算 四巫日 -- ＭI道瓊\n",
    "ymdjia = Find_dayinwhichweek('Fri',3,'Qw')\n",
    "ymdjia = ymdjia.show_date\n",
    "print(ymdjia)"
   ]
  },
  {
   "cell_type": "code",
   "execution_count": 4,
   "metadata": {},
   "outputs": [
    {
     "name": "stdout",
     "output_type": "stream",
     "text": [
      "2021-Mar-03-Wed\n",
      "2021-Mar-05-Fri\n"
     ]
    }
   ],
   "source": [
    "# 美國小非農公佈時間於每個月的第1個星期三公布\n",
    "non_farm_adp = Find_dayinwhichweek('Wed',1,'All').show_date\n",
    "print(non_farm_adp[0])\n",
    "\n",
    "# 美國非農公佈時間於每個月的第1個星期五公布\n",
    "non_farm = Find_dayinwhichweek('Fri',1,'All').show_date\n",
    "print(non_farm[0])"
   ]
  }
 ],
 "metadata": {
  "kernelspec": {
   "display_name": "Python 3",
   "language": "python",
   "name": "python3"
  },
  "language_info": {
   "codemirror_mode": {
    "name": "ipython",
    "version": 3
   },
   "file_extension": ".py",
   "mimetype": "text/x-python",
   "name": "python",
   "nbconvert_exporter": "python",
   "pygments_lexer": "ipython3",
   "version": "3.7.4"
  }
 },
 "nbformat": 4,
 "nbformat_minor": 2
}
